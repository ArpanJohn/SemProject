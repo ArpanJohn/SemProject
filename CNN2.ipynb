{
 "cells": [
  {
   "cell_type": "code",
   "execution_count": 12,
   "metadata": {},
   "outputs": [],
   "source": [
    "import numpy as np\n",
    "import os\n",
    "import seaborn as sns\n",
    "import matplotlib.pyplot as plt\n",
    "from Tools import tools"
   ]
  },
  {
   "cell_type": "code",
   "execution_count": 13,
   "metadata": {},
   "outputs": [
    {
     "name": "stdout",
     "output_type": "stream",
     "text": [
      "C:\\Users\\arpan\\OneDrive\\Documents\\GRB\\data\\21.01-5_DISTPAR\n",
      "['bn100417393_DISTPAR', 'bn110702686_DISTPAR', 'bn151229987_DISTPAR', 'bn160308812_DISTPAR', 'bn230212974_DISTPAR']\n",
      "['bn100417393_DISTPAR', 'bn110702686_DISTPAR', 'bn151229987_DISTPAR', 'bn160308812_DISTPAR', 'bn230212974_DISTPAR']\n",
      "bn100417393_DISTPAR\n",
      "bn110702686_DISTPAR\n",
      "bn151229987_DISTPAR\n",
      "bn160308812_DISTPAR\n",
      "bn230212974_DISTPAR\n",
      "C:\\Users\\arpan\\OneDrive\\Documents\\GRB\\data\\21.01-5_GRB\n",
      "['bn090516137_GRB', 'bn130320560_GRB', 'bn190906767_GRB', 'bn210501205_GRB', 'bn231224868_GRB']\n",
      "['bn090516137_GRB', 'bn130320560_GRB', 'bn190906767_GRB', 'bn210501205_GRB', 'bn231224868_GRB']\n",
      "bn090516137_GRB\n",
      "bn130320560_GRB\n",
      "bn190906767_GRB\n",
      "bn210501205_GRB\n",
      "bn231224868_GRB\n",
      "C:\\Users\\arpan\\OneDrive\\Documents\\GRB\\data\\21.01-5_SFLARE\n",
      "['bn131219968_SFLARE', 'bn221224174_SFLARE', 'bn231220779_SFLARE', 'bn231220792_SFLARE', 'bn231221003_SFLARE']\n",
      "['bn131219968_SFLARE', 'bn221224174_SFLARE', 'bn231220779_SFLARE', 'bn231220792_SFLARE', 'bn231221003_SFLARE']\n",
      "bn131219968_SFLARE\n",
      "bn221224174_SFLARE\n",
      "bn231220779_SFLARE\n",
      "bn231220792_SFLARE\n",
      "bn231221003_SFLARE\n",
      "C:\\Users\\arpan\\OneDrive\\Documents\\GRB\\data\\21.01-5_SGR\n",
      "['bn160727543_SGR', 'bn220626269_SGR', 'bn220709626_SGR', 'bn221109533_SGR', 'bn221204313_SGR']\n",
      "['bn160727543_SGR', 'bn220626269_SGR', 'bn220709626_SGR', 'bn221109533_SGR', 'bn221204313_SGR']\n",
      "bn160727543_SGR\n",
      "bn220626269_SGR\n",
      "bn220709626_SGR\n",
      "bn221109533_SGR\n",
      "bn221204313_SGR\n",
      "C:\\Users\\arpan\\OneDrive\\Documents\\GRB\\data\\21.01-5_TGF\n",
      "['bn100911473_TGF', 'bn140630748_TGF', 'bn140912846_TGF', 'bn170909434_TGF', 'bn190105022_TGF']\n",
      "['bn100911473_TGF', 'bn140630748_TGF', 'bn140912846_TGF', 'bn170909434_TGF', 'bn190105022_TGF']\n",
      "bn100911473_TGF\n",
      "bn140630748_TGF\n",
      "bn140912846_TGF\n",
      "bn170909434_TGF\n",
      "bn190105022_TGF\n",
      "(25, 7, 199)\n"
     ]
    }
   ],
   "source": [
    "# importing data\n",
    "# Read the 2D array back from the text file\n",
    "dir_path = tools.json_path(r'data_path.json')\n",
    "event_types = ['GRB','TGF','SGR','SFLARE','DISTPAR']\n",
    "data_list = ['21.01-5_DISTPAR','21.01-5_GRB','21.01-5_SFLARE','21.01-5_SGR','21.01-5_TGF']\n",
    "X = []\n",
    "Y = []\n",
    "for i in data_list:\n",
    "    print(os.path.join(dir_path,i))\n",
    "    file_list = [f for f in os.listdir(os.path.join(dir_path,i))]\n",
    "    print(file_list)\n",
    "    print(os.listdir(os.path.join(dir_path,i)))\n",
    "    for file in file_list:\n",
    "        print(file)\n",
    "        loaded_data = np.loadtxt(os.path.join(dir_path,i,file), dtype=np.int16, delimiter='\\t')\n",
    "        X.append(loaded_data)\n",
    "        for j in event_types:\n",
    "            if j in file:\n",
    "                Y.append(j)\n",
    "                break\n",
    "X = np.array(X)\n",
    "Y = np.array(Y)\n",
    "print(X.shape)\n",
    "        \n"
   ]
  },
  {
   "cell_type": "code",
   "execution_count": 14,
   "metadata": {},
   "outputs": [
    {
     "name": "stdout",
     "output_type": "stream",
     "text": [
      "Size of the array in bytes: 69650 bytes\n"
     ]
    }
   ],
   "source": [
    "# Find the space taken by the array in bytes\n",
    "array_size_bytes = X.nbytes \n",
    "\n",
    "print(f\"Size of the array in bytes: {array_size_bytes} bytes\")"
   ]
  },
  {
   "cell_type": "code",
   "execution_count": 15,
   "metadata": {},
   "outputs": [
    {
     "name": "stdout",
     "output_type": "stream",
     "text": [
      "X_train shape (22, 7, 199)\n",
      "X_test shape (3, 7, 199)\n",
      "Y_train shape (22,)\n",
      "Y_test shape (3,)\n"
     ]
    }
   ],
   "source": [
    "# Split the train and the validation set for the fitting\n",
    "from sklearn.model_selection import train_test_split\n",
    "X_train = (X)\n",
    "Y_train = (Y)\n",
    "X_train, X_val, Y_train, Y_val = train_test_split(X_train, Y_train, test_size = 0.1, random_state=2)\n",
    "print(\"X_train shape\",X_train.shape)\n",
    "print(\"X_test shape\",X_val.shape)\n",
    "print(\"Y_train shape\",Y_train.shape)\n",
    "print(\"Y_test shape\",Y_val.shape)"
   ]
  },
  {
   "cell_type": "code",
   "execution_count": 16,
   "metadata": {},
   "outputs": [],
   "source": [
    "# \n",
    "import pandas as pd\n",
    "import numpy as np\n",
    "import warnings\n",
    "warnings.filterwarnings('ignore')\n",
    "import matplotlib.pyplot as plt\n",
    "from sklearn.model_selection import train_test_split\n",
    "import keras\n",
    "from keras.models import Sequential\n",
    "from keras.layers import Conv2D,MaxPooling2D,Dense,Flatten,Dropout\n",
    "from keras.optimizers import Adam\n",
    "from keras.callbacks import TensorBoard\n",
    "\n",
    "cnn_model = Sequential([\n",
    "    Conv2D(filters=32,kernel_size=3,activation='relu',input_shape =(22,7,199)),\n",
    "    MaxPooling2D(pool_size=2) ,# down sampling the output instead of 28*28 it is 14*14\n",
    "    Dropout(0.2),\n",
    "    Flatten(), # flatten out the layers\n",
    "    Dense(32,activation='relu'),\n",
    "    Dense(10,activation = 'softmax')\n",
    "    \n",
    "])\n",
    "# model = Sequential()\n",
    "# #\n",
    "# model.add(Conv2D(filters = 8, kernel_size = (5,5),padding = 'Same', \n",
    "#                  activation ='relu', input_shape = (28,28,1)))\n",
    "# model.add(MaxPool2D(pool_size=(2,2)))\n",
    "# model.add(Dropout(0.25))\n",
    "# #\n",
    "# model.add(Conv2D(filters = 16, kernel_size = (3,3),padding = 'Same', \n",
    "#                  activation ='relu'))\n",
    "# model.add(MaxPool2D(pool_size=(2,2), strides=(2,2)))\n",
    "# model.add(Dropout(0.25))\n",
    "# # fully connected\n",
    "# model.add(Flatten())\n",
    "# model.add(Dense(256, activation = \"relu\"))\n",
    "# model.add(Dropout(0.5))\n",
    "# model.add(Dense(10, activation = \"softmax\"))\n",
    "\n",
    "# # Define the optimizer\n",
    "# optimizer = Adam(lr=0.001, beta_1=0.9, beta_2=0.999)\n",
    "\n",
    "# # Compile the model\n",
    "# model.compile(optimizer = optimizer , loss = \"categorical_crossentropy\", metrics=[\"accuracy\"])\n",
    "\n",
    "# epochs = 10  # for better result increase the epochs\n",
    "# batch_size = 250"
   ]
  },
  {
   "cell_type": "code",
   "execution_count": 17,
   "metadata": {},
   "outputs": [
    {
     "name": "stderr",
     "output_type": "stream",
     "text": [
      "WARNING:absl:`lr` is deprecated in Keras optimizer, please use `learning_rate` or use the legacy optimizer, e.g.,tf.keras.optimizers.legacy.Adam.\n"
     ]
    }
   ],
   "source": [
    "cnn_model.compile(loss ='sparse_categorical_crossentropy', optimizer=Adam(lr=0.001),metrics =['accuracy'])"
   ]
  },
  {
   "cell_type": "code",
   "execution_count": 18,
   "metadata": {},
   "outputs": [
    {
     "name": "stdout",
     "output_type": "stream",
     "text": [
      "Epoch 1/75\n"
     ]
    },
    {
     "ename": "ValueError",
     "evalue": "in user code:\n\n    File \"c:\\Users\\arpan\\miniconda3\\lib\\site-packages\\keras\\src\\engine\\training.py\", line 1401, in train_function  *\n        return step_function(self, iterator)\n    File \"c:\\Users\\arpan\\miniconda3\\lib\\site-packages\\keras\\src\\engine\\training.py\", line 1384, in step_function  **\n        outputs = model.distribute_strategy.run(run_step, args=(data,))\n    File \"c:\\Users\\arpan\\miniconda3\\lib\\site-packages\\keras\\src\\engine\\training.py\", line 1373, in run_step  **\n        outputs = model.train_step(data)\n    File \"c:\\Users\\arpan\\miniconda3\\lib\\site-packages\\keras\\src\\engine\\training.py\", line 1150, in train_step\n        y_pred = self(x, training=True)\n    File \"c:\\Users\\arpan\\miniconda3\\lib\\site-packages\\keras\\src\\utils\\traceback_utils.py\", line 70, in error_handler\n        raise e.with_traceback(filtered_tb) from None\n    File \"c:\\Users\\arpan\\miniconda3\\lib\\site-packages\\keras\\src\\engine\\input_spec.py\", line 298, in assert_input_compatibility\n        raise ValueError(\n\n    ValueError: Input 0 of layer \"sequential_2\" is incompatible with the layer: expected shape=(None, 22, 7, 199), found shape=(None, 7, 199)\n",
     "output_type": "error",
     "traceback": [
      "\u001b[1;31m---------------------------------------------------------------------------\u001b[0m",
      "\u001b[1;31mValueError\u001b[0m                                Traceback (most recent call last)",
      "Cell \u001b[1;32mIn[18], line 1\u001b[0m\n\u001b[1;32m----> 1\u001b[0m history \u001b[38;5;241m=\u001b[39m \u001b[43mcnn_model\u001b[49m\u001b[38;5;241;43m.\u001b[39;49m\u001b[43mfit\u001b[49m\u001b[43m(\u001b[49m\n\u001b[0;32m      2\u001b[0m \u001b[43m    \u001b[49m\u001b[43mX_train\u001b[49m\u001b[43m,\u001b[49m\n\u001b[0;32m      3\u001b[0m \u001b[43m    \u001b[49m\u001b[43mY_train\u001b[49m\u001b[43m,\u001b[49m\n\u001b[0;32m      4\u001b[0m \u001b[43m    \u001b[49m\u001b[43mbatch_size\u001b[49m\u001b[38;5;241;43m=\u001b[39;49m\u001b[38;5;241;43m40\u001b[39;49m\u001b[43m,\u001b[49m\n\u001b[0;32m      5\u001b[0m \u001b[43m    \u001b[49m\u001b[43mepochs\u001b[49m\u001b[38;5;241;43m=\u001b[39;49m\u001b[38;5;241;43m75\u001b[39;49m\u001b[43m,\u001b[49m\n\u001b[0;32m      6\u001b[0m \u001b[43m    \u001b[49m\u001b[43mverbose\u001b[49m\u001b[38;5;241;43m=\u001b[39;49m\u001b[38;5;241;43m1\u001b[39;49m\u001b[43m,\u001b[49m\n\u001b[0;32m      7\u001b[0m \u001b[43m    \u001b[49m\u001b[43mvalidation_data\u001b[49m\u001b[38;5;241;43m=\u001b[39;49m\u001b[43m(\u001b[49m\u001b[43mX_val\u001b[49m\u001b[43m,\u001b[49m\u001b[43mY_val\u001b[49m\u001b[43m)\u001b[49m\u001b[43m,\u001b[49m\n\u001b[0;32m      8\u001b[0m \u001b[43m)\u001b[49m\n",
      "File \u001b[1;32mc:\\Users\\arpan\\miniconda3\\lib\\site-packages\\keras\\src\\utils\\traceback_utils.py:70\u001b[0m, in \u001b[0;36mfilter_traceback.<locals>.error_handler\u001b[1;34m(*args, **kwargs)\u001b[0m\n\u001b[0;32m     67\u001b[0m     filtered_tb \u001b[38;5;241m=\u001b[39m _process_traceback_frames(e\u001b[38;5;241m.\u001b[39m__traceback__)\n\u001b[0;32m     68\u001b[0m     \u001b[38;5;66;03m# To get the full stack trace, call:\u001b[39;00m\n\u001b[0;32m     69\u001b[0m     \u001b[38;5;66;03m# `tf.debugging.disable_traceback_filtering()`\u001b[39;00m\n\u001b[1;32m---> 70\u001b[0m     \u001b[38;5;28;01mraise\u001b[39;00m e\u001b[38;5;241m.\u001b[39mwith_traceback(filtered_tb) \u001b[38;5;28;01mfrom\u001b[39;00m \u001b[38;5;28;01mNone\u001b[39;00m\n\u001b[0;32m     71\u001b[0m \u001b[38;5;28;01mfinally\u001b[39;00m:\n\u001b[0;32m     72\u001b[0m     \u001b[38;5;28;01mdel\u001b[39;00m filtered_tb\n",
      "File \u001b[1;32m~\\AppData\\Local\\Temp\\__autograph_generated_fileg_xmmikj.py:15\u001b[0m, in \u001b[0;36mouter_factory.<locals>.inner_factory.<locals>.tf__train_function\u001b[1;34m(iterator)\u001b[0m\n\u001b[0;32m     13\u001b[0m \u001b[38;5;28;01mtry\u001b[39;00m:\n\u001b[0;32m     14\u001b[0m     do_return \u001b[38;5;241m=\u001b[39m \u001b[38;5;28;01mTrue\u001b[39;00m\n\u001b[1;32m---> 15\u001b[0m     retval_ \u001b[38;5;241m=\u001b[39m ag__\u001b[38;5;241m.\u001b[39mconverted_call(ag__\u001b[38;5;241m.\u001b[39mld(step_function), (ag__\u001b[38;5;241m.\u001b[39mld(\u001b[38;5;28mself\u001b[39m), ag__\u001b[38;5;241m.\u001b[39mld(iterator)), \u001b[38;5;28;01mNone\u001b[39;00m, fscope)\n\u001b[0;32m     16\u001b[0m \u001b[38;5;28;01mexcept\u001b[39;00m:\n\u001b[0;32m     17\u001b[0m     do_return \u001b[38;5;241m=\u001b[39m \u001b[38;5;28;01mFalse\u001b[39;00m\n",
      "\u001b[1;31mValueError\u001b[0m: in user code:\n\n    File \"c:\\Users\\arpan\\miniconda3\\lib\\site-packages\\keras\\src\\engine\\training.py\", line 1401, in train_function  *\n        return step_function(self, iterator)\n    File \"c:\\Users\\arpan\\miniconda3\\lib\\site-packages\\keras\\src\\engine\\training.py\", line 1384, in step_function  **\n        outputs = model.distribute_strategy.run(run_step, args=(data,))\n    File \"c:\\Users\\arpan\\miniconda3\\lib\\site-packages\\keras\\src\\engine\\training.py\", line 1373, in run_step  **\n        outputs = model.train_step(data)\n    File \"c:\\Users\\arpan\\miniconda3\\lib\\site-packages\\keras\\src\\engine\\training.py\", line 1150, in train_step\n        y_pred = self(x, training=True)\n    File \"c:\\Users\\arpan\\miniconda3\\lib\\site-packages\\keras\\src\\utils\\traceback_utils.py\", line 70, in error_handler\n        raise e.with_traceback(filtered_tb) from None\n    File \"c:\\Users\\arpan\\miniconda3\\lib\\site-packages\\keras\\src\\engine\\input_spec.py\", line 298, in assert_input_compatibility\n        raise ValueError(\n\n    ValueError: Input 0 of layer \"sequential_2\" is incompatible with the layer: expected shape=(None, 22, 7, 199), found shape=(None, 7, 199)\n"
     ]
    }
   ],
   "source": [
    "history = cnn_model.fit(\n",
    "    X_train,\n",
    "    Y_train,\n",
    "    batch_size=40,\n",
    "    epochs=75,\n",
    "    verbose=1,\n",
    "    validation_data=(X_val,Y_val),\n",
    ")"
   ]
  },
  {
   "cell_type": "code",
   "execution_count": null,
   "metadata": {},
   "outputs": [],
   "source": [
    "# # Fit the model\n",
    "# history = model.fit_generator((X_train,Y_train, batch_size=batch_size),epochs = epochs, validation_data = (X_val,Y_val), steps_per_epoch=X_train.shape[0] // batch_size)"
   ]
  },
  {
   "cell_type": "code",
   "execution_count": null,
   "metadata": {},
   "outputs": [],
   "source": [
    "# Plot the loss and accuracy curves for training and validation \n",
    "plt.plot(history.history['val_loss'], color='b', label=\"validation loss\")\n",
    "plt.title(\"Test Loss\")\n",
    "plt.xlabel(\"Number of Epochs\")\n",
    "plt.ylabel(\"Loss\")\n",
    "plt.legend()\n",
    "plt.show()"
   ]
  },
  {
   "cell_type": "code",
   "execution_count": null,
   "metadata": {},
   "outputs": [],
   "source": [
    "# confusion matrix\n",
    "import seaborn as sns\n",
    "# Predict the values from the validation dataset\n",
    "Y_pred = model.predict(X_val)\n",
    "# Convert predictions classes to one hot vectors \n",
    "Y_pred_classes = np.argmax(Y_pred,axis = 1) \n",
    "# Convert validation observations to one hot vectors\n",
    "Y_true = np.argmax(Y_val,axis = 1) \n",
    "# compute the confusion matrix\n",
    "confusion_mtx = confusion_matrix(Y_true, Y_pred_classes) \n",
    "# plot the confusion matrix\n",
    "f,ax = plt.subplots(figsize=(8, 8))\n",
    "sns.heatmap(confusion_mtx, annot=True, linewidths=0.01,cmap=\"Greens\",linecolor=\"gray\", fmt= '.1f',ax=ax)\n",
    "plt.xlabel(\"Predicted Label\")\n",
    "plt.ylabel(\"True Label\")\n",
    "plt.title(\"Confusion Matrix\")\n",
    "plt.show()"
   ]
  }
 ],
 "metadata": {
  "kernelspec": {
   "display_name": "base",
   "language": "python",
   "name": "python3"
  },
  "language_info": {
   "codemirror_mode": {
    "name": "ipython",
    "version": 3
   },
   "file_extension": ".py",
   "mimetype": "text/x-python",
   "name": "python",
   "nbconvert_exporter": "python",
   "pygments_lexer": "ipython3",
   "version": "3.9.12"
  }
 },
 "nbformat": 4,
 "nbformat_minor": 2
}
