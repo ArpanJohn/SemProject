{
 "cells": [
  {
   "cell_type": "code",
   "execution_count": 1,
   "metadata": {},
   "outputs": [
    {
     "name": "stdout",
     "output_type": "stream",
     "text": [
      "DISTPAR C:\\Users\\arpan\\OneDrive\\Documents\\GRB\\data\\data_set_3_proccessed\\DISTPAR_bn120618144\n",
      "DISTPAR C:\\Users\\arpan\\OneDrive\\Documents\\GRB\\data\\data_set_3_proccessed\\DISTPAR_bn140207935\n",
      "DISTPAR C:\\Users\\arpan\\OneDrive\\Documents\\GRB\\data\\data_set_3_proccessed\\DISTPAR_bn141022696\n",
      "DISTPAR C:\\Users\\arpan\\OneDrive\\Documents\\GRB\\data\\data_set_3_proccessed\\DISTPAR_bn150827996\n",
      "DISTPAR C:\\Users\\arpan\\OneDrive\\Documents\\GRB\\data\\data_set_3_proccessed\\DISTPAR_bn161026840\n",
      "DISTPAR C:\\Users\\arpan\\OneDrive\\Documents\\GRB\\data\\data_set_3_proccessed\\DISTPAR_bn170906983\n",
      "DISTPAR C:\\Users\\arpan\\OneDrive\\Documents\\GRB\\data\\data_set_3_proccessed\\DISTPAR_bn170908071\n",
      "GRB C:\\Users\\arpan\\OneDrive\\Documents\\GRB\\data\\data_set_3_proccessed\\GRB_bn080717543\n",
      "GRB C:\\Users\\arpan\\OneDrive\\Documents\\GRB\\data\\data_set_3_proccessed\\GRB_bn080725435\n",
      "GRB C:\\Users\\arpan\\OneDrive\\Documents\\GRB\\data\\data_set_3_proccessed\\GRB_bn080831053\n",
      "GRB C:\\Users\\arpan\\OneDrive\\Documents\\GRB\\data\\data_set_3_proccessed\\GRB_bn090326633\n",
      "GRB C:\\Users\\arpan\\OneDrive\\Documents\\GRB\\data\\data_set_3_proccessed\\GRB_bn090516853\n",
      "GRB C:\\Users\\arpan\\OneDrive\\Documents\\GRB\\data\\data_set_3_proccessed\\GRB_bn090926914\n",
      "GRB C:\\Users\\arpan\\OneDrive\\Documents\\GRB\\data\\data_set_3_proccessed\\GRB_bn100207665\n",
      "GRB C:\\Users\\arpan\\OneDrive\\Documents\\GRB\\data\\data_set_3_proccessed\\GRB_bn100224112\n",
      "GRB C:\\Users\\arpan\\OneDrive\\Documents\\GRB\\data\\data_set_3_proccessed\\GRB_bn101104810\n",
      "GRB C:\\Users\\arpan\\OneDrive\\Documents\\GRB\\data\\data_set_3_proccessed\\GRB_bn101227406\n",
      "GRB C:\\Users\\arpan\\OneDrive\\Documents\\GRB\\data\\data_set_3_proccessed\\GRB_bn110410133\n",
      "GRB C:\\Users\\arpan\\OneDrive\\Documents\\GRB\\data\\data_set_3_proccessed\\GRB_bn110521478\n",
      "GRB C:\\Users\\arpan\\OneDrive\\Documents\\GRB\\data\\data_set_3_proccessed\\GRB_bn110803783\n",
      "GRB C:\\Users\\arpan\\OneDrive\\Documents\\GRB\\data\\data_set_3_proccessed\\GRB_bn111022854\n",
      "GRB C:\\Users\\arpan\\OneDrive\\Documents\\GRB\\data\\data_set_3_proccessed\\GRB_bn111221739\n",
      "GRB C:\\Users\\arpan\\OneDrive\\Documents\\GRB\\data\\data_set_3_proccessed\\GRB_bn111230819\n",
      "GRB C:\\Users\\arpan\\OneDrive\\Documents\\GRB\\data\\data_set_3_proccessed\\GRB_bn120403857\n",
      "GRB C:\\Users\\arpan\\OneDrive\\Documents\\GRB\\data\\data_set_3_proccessed\\GRB_bn120429484\n",
      "GRB C:\\Users\\arpan\\OneDrive\\Documents\\GRB\\data\\data_set_3_proccessed\\GRB_bn120711115\n",
      "GRB C:\\Users\\arpan\\OneDrive\\Documents\\GRB\\data\\data_set_3_proccessed\\GRB_bn120817168\n",
      "GRB C:\\Users\\arpan\\OneDrive\\Documents\\GRB\\data\\data_set_3_proccessed\\GRB_bn121004211\n",
      "GRB C:\\Users\\arpan\\OneDrive\\Documents\\GRB\\data\\data_set_3_proccessed\\GRB_bn121028280\n",
      "GRB C:\\Users\\arpan\\OneDrive\\Documents\\GRB\\data\\data_set_3_proccessed\\GRB_bn130406334\n",
      "GRB C:\\Users\\arpan\\OneDrive\\Documents\\GRB\\data\\data_set_3_proccessed\\GRB_bn130606497\n",
      "GRB C:\\Users\\arpan\\OneDrive\\Documents\\GRB\\data\\data_set_3_proccessed\\GRB_bn130611538\n",
      "GRB C:\\Users\\arpan\\OneDrive\\Documents\\GRB\\data\\data_set_3_proccessed\\GRB_bn130704560\n",
      "GRB C:\\Users\\arpan\\OneDrive\\Documents\\GRB\\data\\data_set_3_proccessed\\GRB_bn130717734\n",
      "GRB C:\\Users\\arpan\\OneDrive\\Documents\\GRB\\data\\data_set_3_proccessed\\GRB_bn130727698\n",
      "GRB C:\\Users\\arpan\\OneDrive\\Documents\\GRB\\data\\data_set_3_proccessed\\GRB_bn130908677\n",
      "GRB C:\\Users\\arpan\\OneDrive\\Documents\\GRB\\data\\data_set_3_proccessed\\GRB_bn131113483\n",
      "GRB C:\\Users\\arpan\\OneDrive\\Documents\\GRB\\data\\data_set_3_proccessed\\GRB_bn131123543\n",
      "GRB C:\\Users\\arpan\\OneDrive\\Documents\\GRB\\data\\data_set_3_proccessed\\GRB_bn140118064\n",
      "GRB C:\\Users\\arpan\\OneDrive\\Documents\\GRB\\data\\data_set_3_proccessed\\GRB_bn140223495\n",
      "GRB C:\\Users\\arpan\\OneDrive\\Documents\\GRB\\data\\data_set_3_proccessed\\GRB_bn140616165\n",
      "GRB C:\\Users\\arpan\\OneDrive\\Documents\\GRB\\data\\data_set_3_proccessed\\GRB_bn140710537\n",
      "GRB C:\\Users\\arpan\\OneDrive\\Documents\\GRB\\data\\data_set_3_proccessed\\GRB_bn141122875\n",
      "GRB C:\\Users\\arpan\\OneDrive\\Documents\\GRB\\data\\data_set_3_proccessed\\GRB_bn150705588\n",
      "GRB C:\\Users\\arpan\\OneDrive\\Documents\\GRB\\data\\data_set_3_proccessed\\GRB_bn150708339\n",
      "GRB C:\\Users\\arpan\\OneDrive\\Documents\\GRB\\data\\data_set_3_proccessed\\GRB_bn150727793\n",
      "GRB C:\\Users\\arpan\\OneDrive\\Documents\\GRB\\data\\data_set_3_proccessed\\GRB_bn150826557\n",
      "GRB C:\\Users\\arpan\\OneDrive\\Documents\\GRB\\data\\data_set_3_proccessed\\GRB_bn151130160\n",
      "GRB C:\\Users\\arpan\\OneDrive\\Documents\\GRB\\data\\data_set_3_proccessed\\GRB_bn151210041\n",
      "GRB C:\\Users\\arpan\\OneDrive\\Documents\\GRB\\data\\data_set_3_proccessed\\GRB_bn160225809\n",
      "GRB C:\\Users\\arpan\\OneDrive\\Documents\\GRB\\data\\data_set_3_proccessed\\GRB_bn160411062\n",
      "GRB C:\\Users\\arpan\\OneDrive\\Documents\\GRB\\data\\data_set_3_proccessed\\GRB_bn160528276\n",
      "GRB C:\\Users\\arpan\\OneDrive\\Documents\\GRB\\data\\data_set_3_proccessed\\GRB_bn160829334\n",
      "GRB C:\\Users\\arpan\\OneDrive\\Documents\\GRB\\data\\data_set_3_proccessed\\GRB_bn160919613\n",
      "GRB C:\\Users\\arpan\\OneDrive\\Documents\\GRB\\data\\data_set_3_proccessed\\GRB_bn161220605\n",
      "GRB C:\\Users\\arpan\\OneDrive\\Documents\\GRB\\data\\data_set_3_proccessed\\GRB_bn170116238\n",
      "GRB C:\\Users\\arpan\\OneDrive\\Documents\\GRB\\data\\data_set_3_proccessed\\GRB_bn170127634\n",
      "GRB C:\\Users\\arpan\\OneDrive\\Documents\\GRB\\data\\data_set_3_proccessed\\GRB_bn170302719\n",
      "GRB C:\\Users\\arpan\\OneDrive\\Documents\\GRB\\data\\data_set_3_proccessed\\GRB_bn170718152\n",
      "GRB C:\\Users\\arpan\\OneDrive\\Documents\\GRB\\data\\data_set_3_proccessed\\GRB_bn170813051\n",
      "GRB C:\\Users\\arpan\\OneDrive\\Documents\\GRB\\data\\data_set_3_proccessed\\GRB_bn171010875\n",
      "GRB C:\\Users\\arpan\\OneDrive\\Documents\\GRB\\data\\data_set_3_proccessed\\GRB_bn171029020\n",
      "GRB C:\\Users\\arpan\\OneDrive\\Documents\\GRB\\data\\data_set_3_proccessed\\GRB_bn180516229\n",
      "GRB C:\\Users\\arpan\\OneDrive\\Documents\\GRB\\data\\data_set_3_proccessed\\GRB_bn180821653\n",
      "GRB C:\\Users\\arpan\\OneDrive\\Documents\\GRB\\data\\data_set_3_proccessed\\GRB_bn180910352\n",
      "GRB C:\\Users\\arpan\\OneDrive\\Documents\\GRB\\data\\data_set_3_proccessed\\GRB_bn190320052\n",
      "GRB C:\\Users\\arpan\\OneDrive\\Documents\\GRB\\data\\data_set_3_proccessed\\GRB_bn200112395\n",
      "GRB C:\\Users\\arpan\\OneDrive\\Documents\\GRB\\data\\data_set_3_proccessed\\GRB_bn200713919\n",
      "GRB C:\\Users\\arpan\\OneDrive\\Documents\\GRB\\data\\data_set_3_proccessed\\GRB_bn210701834\n",
      "GRB C:\\Users\\arpan\\OneDrive\\Documents\\GRB\\data\\data_set_3_proccessed\\GRB_bn210722871\n",
      "GRB C:\\Users\\arpan\\OneDrive\\Documents\\GRB\\data\\data_set_3_proccessed\\GRB_bn220724988\n",
      "GRB C:\\Users\\arpan\\OneDrive\\Documents\\GRB\\data\\data_set_3_proccessed\\GRB_bn220727192\n",
      "GRB C:\\Users\\arpan\\OneDrive\\Documents\\GRB\\data\\data_set_3_proccessed\\GRB_bn220826497\n",
      "GRB C:\\Users\\arpan\\OneDrive\\Documents\\GRB\\data\\data_set_3_proccessed\\GRB_bn220907587\n",
      "GRB C:\\Users\\arpan\\OneDrive\\Documents\\GRB\\data\\data_set_3_proccessed\\GRB_bn230111797\n",
      "GRB C:\\Users\\arpan\\OneDrive\\Documents\\GRB\\data\\data_set_3_proccessed\\GRB_bn230304624\n",
      "GRB C:\\Users\\arpan\\OneDrive\\Documents\\GRB\\data\\data_set_3_proccessed\\GRB_bn230911329\n",
      "GRB C:\\Users\\arpan\\OneDrive\\Documents\\GRB\\data\\data_set_3_proccessed\\GRB_bn231214329\n",
      "SFLARE C:\\Users\\arpan\\OneDrive\\Documents\\GRB\\data\\data_set_3_proccessed\\SFLARE_bn100207334\n",
      "SFLARE C:\\Users\\arpan\\OneDrive\\Documents\\GRB\\data\\data_set_3_proccessed\\SFLARE_bn110214810\n",
      "SFLARE C:\\Users\\arpan\\OneDrive\\Documents\\GRB\\data\\data_set_3_proccessed\\SFLARE_bn110215025\n",
      "SFLARE C:\\Users\\arpan\\OneDrive\\Documents\\GRB\\data\\data_set_3_proccessed\\SFLARE_bn110215332\n",
      "SFLARE C:\\Users\\arpan\\OneDrive\\Documents\\GRB\\data\\data_set_3_proccessed\\SFLARE_bn110218537\n",
      "SFLARE C:\\Users\\arpan\\OneDrive\\Documents\\GRB\\data\\data_set_3_proccessed\\SFLARE_bn110228502\n",
      "SFLARE C:\\Users\\arpan\\OneDrive\\Documents\\GRB\\data\\data_set_3_proccessed\\SFLARE_bn110308340\n",
      "SFLARE C:\\Users\\arpan\\OneDrive\\Documents\\GRB\\data\\data_set_3_proccessed\\SFLARE_bn110309971\n",
      "SFLARE C:\\Users\\arpan\\OneDrive\\Documents\\GRB\\data\\data_set_3_proccessed\\SFLARE_bn111010607\n",
      "SFLARE C:\\Users\\arpan\\OneDrive\\Documents\\GRB\\data\\data_set_3_proccessed\\SFLARE_bn111120224\n"
     ]
    },
    {
     "name": "stderr",
     "output_type": "stream",
     "text": [
      "C:\\Users\\arpan\\AppData\\Local\\Temp\\ipykernel_16608\\2545291365.py:22: DeprecationWarning: loadtxt(): Parsing an integer via a float is deprecated.  To avoid this warning, you can:\n",
      "    * make sure the original data is stored as integers.\n",
      "    * use the `converters=` keyword argument.  If you only use\n",
      "      NumPy 1.23 or later, `converters=float` will normally work.\n",
      "    * Use `np.loadtxt(...).astype(np.int64)` parsing the file as\n",
      "      floating point and then convert it.  (On all NumPy versions.)\n",
      "  (Deprecated NumPy 1.23)\n",
      "  loaded_data = np.loadtxt(file, dtype=np.int16, delimiter='\\t').astype(np.int16)\n"
     ]
    },
    {
     "name": "stdout",
     "output_type": "stream",
     "text": [
      "SFLARE C:\\Users\\arpan\\OneDrive\\Documents\\GRB\\data\\data_set_3_proccessed\\SFLARE_bn111220945\n",
      "SFLARE C:\\Users\\arpan\\OneDrive\\Documents\\GRB\\data\\data_set_3_proccessed\\SFLARE_bn120307088\n",
      "SFLARE C:\\Users\\arpan\\OneDrive\\Documents\\GRB\\data\\data_set_3_proccessed\\SFLARE_bn120308120\n",
      "SFLARE C:\\Users\\arpan\\OneDrive\\Documents\\GRB\\data\\data_set_3_proccessed\\SFLARE_bn120308361\n",
      "SFLARE C:\\Users\\arpan\\OneDrive\\Documents\\GRB\\data\\data_set_3_proccessed\\SFLARE_bn121108098\n",
      "SFLARE C:\\Users\\arpan\\OneDrive\\Documents\\GRB\\data\\data_set_3_proccessed\\SFLARE_bn130113290\n",
      "SFLARE C:\\Users\\arpan\\OneDrive\\Documents\\GRB\\data\\data_set_3_proccessed\\SFLARE_bn130215455\n",
      "SFLARE C:\\Users\\arpan\\OneDrive\\Documents\\GRB\\data\\data_set_3_proccessed\\SFLARE_bn130217660\n",
      "SFLARE C:\\Users\\arpan\\OneDrive\\Documents\\GRB\\data\\data_set_3_proccessed\\SFLARE_bn131027526\n",
      "SFLARE C:\\Users\\arpan\\OneDrive\\Documents\\GRB\\data\\data_set_3_proccessed\\SFLARE_bn131106407\n",
      "SFLARE C:\\Users\\arpan\\OneDrive\\Documents\\GRB\\data\\data_set_3_proccessed\\SFLARE_bn131107151\n",
      "SFLARE C:\\Users\\arpan\\OneDrive\\Documents\\GRB\\data\\data_set_3_proccessed\\SFLARE_bn140103534\n",
      "SFLARE C:\\Users\\arpan\\OneDrive\\Documents\\GRB\\data\\data_set_3_proccessed\\SFLARE_bn140104430\n",
      "SFLARE C:\\Users\\arpan\\OneDrive\\Documents\\GRB\\data\\data_set_3_proccessed\\SFLARE_bn140128927\n",
      "SFLARE C:\\Users\\arpan\\OneDrive\\Documents\\GRB\\data\\data_set_3_proccessed\\SFLARE_bn140213254\n",
      "SFLARE C:\\Users\\arpan\\OneDrive\\Documents\\GRB\\data\\data_set_3_proccessed\\SFLARE_bn140227448\n",
      "SFLARE C:\\Users\\arpan\\OneDrive\\Documents\\GRB\\data\\data_set_3_proccessed\\SFLARE_bn140311159\n",
      "SFLARE C:\\Users\\arpan\\OneDrive\\Documents\\GRB\\data\\data_set_3_proccessed\\SFLARE_bn141022075\n",
      "SFLARE C:\\Users\\arpan\\OneDrive\\Documents\\GRB\\data\\data_set_3_proccessed\\SFLARE_bn141029890\n",
      "SFLARE C:\\Users\\arpan\\OneDrive\\Documents\\GRB\\data\\data_set_3_proccessed\\SFLARE_bn141104267\n",
      "SFLARE C:\\Users\\arpan\\OneDrive\\Documents\\GRB\\data\\data_set_3_proccessed\\SFLARE_bn141107503\n",
      "SFLARE C:\\Users\\arpan\\OneDrive\\Documents\\GRB\\data\\data_set_3_proccessed\\SFLARE_bn141107743\n",
      "SFLARE C:\\Users\\arpan\\OneDrive\\Documents\\GRB\\data\\data_set_3_proccessed\\SFLARE_bn141208026\n",
      "SFLARE C:\\Users\\arpan\\OneDrive\\Documents\\GRB\\data\\data_set_3_proccessed\\SFLARE_bn141215968\n",
      "SFLARE C:\\Users\\arpan\\OneDrive\\Documents\\GRB\\data\\data_set_3_proccessed\\SFLARE_bn151104373\n",
      "SFLARE C:\\Users\\arpan\\OneDrive\\Documents\\GRB\\data\\data_set_3_proccessed\\SFLARE_bn160216701\n",
      "SFLARE C:\\Users\\arpan\\OneDrive\\Documents\\GRB\\data\\data_set_3_proccessed\\SFLARE_bn221004632\n",
      "SFLARE C:\\Users\\arpan\\OneDrive\\Documents\\GRB\\data\\data_set_3_proccessed\\SFLARE_bn221209527\n",
      "SFLARE C:\\Users\\arpan\\OneDrive\\Documents\\GRB\\data\\data_set_3_proccessed\\SFLARE_bn221217824\n",
      "SFLARE C:\\Users\\arpan\\OneDrive\\Documents\\GRB\\data\\data_set_3_proccessed\\SFLARE_bn221225291\n",
      "SFLARE C:\\Users\\arpan\\OneDrive\\Documents\\GRB\\data\\data_set_3_proccessed\\SFLARE_bn230110108\n",
      "SFLARE C:\\Users\\arpan\\OneDrive\\Documents\\GRB\\data\\data_set_3_proccessed\\SFLARE_bn230111356\n",
      "SFLARE C:\\Users\\arpan\\OneDrive\\Documents\\GRB\\data\\data_set_3_proccessed\\SFLARE_bn230221088\n",
      "SFLARE C:\\Users\\arpan\\OneDrive\\Documents\\GRB\\data\\data_set_3_proccessed\\SFLARE_bn230228174\n",
      "SFLARE C:\\Users\\arpan\\OneDrive\\Documents\\GRB\\data\\data_set_3_proccessed\\SFLARE_bn230301167\n",
      "SFLARE C:\\Users\\arpan\\OneDrive\\Documents\\GRB\\data\\data_set_3_proccessed\\SFLARE_bn231030158\n",
      "SFLARE C:\\Users\\arpan\\OneDrive\\Documents\\GRB\\data\\data_set_3_proccessed\\SFLARE_bn231105605\n",
      "SFLARE C:\\Users\\arpan\\OneDrive\\Documents\\GRB\\data\\data_set_3_proccessed\\SFLARE_bn231106584\n",
      "SFLARE C:\\Users\\arpan\\OneDrive\\Documents\\GRB\\data\\data_set_3_proccessed\\SFLARE_bn231122049\n",
      "SFLARE C:\\Users\\arpan\\OneDrive\\Documents\\GRB\\data\\data_set_3_proccessed\\SFLARE_bn231206235\n",
      "SFLARE C:\\Users\\arpan\\OneDrive\\Documents\\GRB\\data\\data_set_3_proccessed\\SFLARE_bn231210444\n",
      "SFLARE C:\\Users\\arpan\\OneDrive\\Documents\\GRB\\data\\data_set_3_proccessed\\SFLARE_bn231231343\n",
      "SGR C:\\Users\\arpan\\OneDrive\\Documents\\GRB\\data\\data_set_3_proccessed\\SGR_bn090222540\n",
      "SGR C:\\Users\\arpan\\OneDrive\\Documents\\GRB\\data\\data_set_3_proccessed\\SGR_bn210213417\n",
      "SGR C:\\Users\\arpan\\OneDrive\\Documents\\GRB\\data\\data_set_3_proccessed\\SGR_bn220423109\n",
      "SGR C:\\Users\\arpan\\OneDrive\\Documents\\GRB\\data\\data_set_3_proccessed\\SGR_bn221225015\n",
      "TGF C:\\Users\\arpan\\OneDrive\\Documents\\GRB\\data\\data_set_3_proccessed\\TGF_bn091227801\n",
      "TGF C:\\Users\\arpan\\OneDrive\\Documents\\GRB\\data\\data_set_3_proccessed\\TGF_bn100223288\n",
      "TGF C:\\Users\\arpan\\OneDrive\\Documents\\GRB\\data\\data_set_3_proccessed\\TGF_bn100414253\n",
      "TGF C:\\Users\\arpan\\OneDrive\\Documents\\GRB\\data\\data_set_3_proccessed\\TGF_bn101231632\n",
      "TGF C:\\Users\\arpan\\OneDrive\\Documents\\GRB\\data\\data_set_3_proccessed\\TGF_bn110503751\n",
      "TGF C:\\Users\\arpan\\OneDrive\\Documents\\GRB\\data\\data_set_3_proccessed\\TGF_bn110709981\n",
      "TGF C:\\Users\\arpan\\OneDrive\\Documents\\GRB\\data\\data_set_3_proccessed\\TGF_bn120602615\n",
      "TGF C:\\Users\\arpan\\OneDrive\\Documents\\GRB\\data\\data_set_3_proccessed\\TGF_bn121106283\n",
      "TGF C:\\Users\\arpan\\OneDrive\\Documents\\GRB\\data\\data_set_3_proccessed\\TGF_bn130131559\n",
      "TGF C:\\Users\\arpan\\OneDrive\\Documents\\GRB\\data\\data_set_3_proccessed\\TGF_bn130525418\n",
      "TGF C:\\Users\\arpan\\OneDrive\\Documents\\GRB\\data\\data_set_3_proccessed\\TGF_bn131203777\n",
      "TGF C:\\Users\\arpan\\OneDrive\\Documents\\GRB\\data\\data_set_3_proccessed\\TGF_bn140920177\n",
      "TGF C:\\Users\\arpan\\OneDrive\\Documents\\GRB\\data\\data_set_3_proccessed\\TGF_bn141029398\n",
      "TGF C:\\Users\\arpan\\OneDrive\\Documents\\GRB\\data\\data_set_3_proccessed\\TGF_bn141219218\n",
      "TGF C:\\Users\\arpan\\OneDrive\\Documents\\GRB\\data\\data_set_3_proccessed\\TGF_bn150127358\n",
      "TGF C:\\Users\\arpan\\OneDrive\\Documents\\GRB\\data\\data_set_3_proccessed\\TGF_bn150301963\n",
      "TGF C:\\Users\\arpan\\OneDrive\\Documents\\GRB\\data\\data_set_3_proccessed\\TGF_bn150903443\n",
      "TGF C:\\Users\\arpan\\OneDrive\\Documents\\GRB\\data\\data_set_3_proccessed\\TGF_bn160501445\n",
      "TGF C:\\Users\\arpan\\OneDrive\\Documents\\GRB\\data\\data_set_3_proccessed\\TGF_bn160704661\n",
      "TGF C:\\Users\\arpan\\OneDrive\\Documents\\GRB\\data\\data_set_3_proccessed\\TGF_bn170220864\n",
      "TGF C:\\Users\\arpan\\OneDrive\\Documents\\GRB\\data\\data_set_3_proccessed\\TGF_bn170810505\n",
      "TGF C:\\Users\\arpan\\OneDrive\\Documents\\GRB\\data\\data_set_3_proccessed\\TGF_bn170923773\n",
      "TGF C:\\Users\\arpan\\OneDrive\\Documents\\GRB\\data\\data_set_3_proccessed\\TGF_bn171025401\n",
      "TGF C:\\Users\\arpan\\OneDrive\\Documents\\GRB\\data\\data_set_3_proccessed\\TGF_bn171124565\n",
      "TGF C:\\Users\\arpan\\OneDrive\\Documents\\GRB\\data\\data_set_3_proccessed\\TGF_bn171129311\n",
      "TGF C:\\Users\\arpan\\OneDrive\\Documents\\GRB\\data\\data_set_3_proccessed\\TGF_bn180106416\n",
      "TGF C:\\Users\\arpan\\OneDrive\\Documents\\GRB\\data\\data_set_3_proccessed\\TGF_bn180413498\n",
      "TGF C:\\Users\\arpan\\OneDrive\\Documents\\GRB\\data\\data_set_3_proccessed\\TGF_bn190101554\n",
      "TGF C:\\Users\\arpan\\OneDrive\\Documents\\GRB\\data\\data_set_3_proccessed\\TGF_bn190402512\n",
      "TGF C:\\Users\\arpan\\OneDrive\\Documents\\GRB\\data\\data_set_3_proccessed\\TGF_bn190509787\n",
      "TGF C:\\Users\\arpan\\OneDrive\\Documents\\GRB\\data\\data_set_3_proccessed\\TGF_bn190514672\n",
      "TGF C:\\Users\\arpan\\OneDrive\\Documents\\GRB\\data\\data_set_3_proccessed\\TGF_bn191202988\n",
      "TGF C:\\Users\\arpan\\OneDrive\\Documents\\GRB\\data\\data_set_3_proccessed\\TGF_bn200213374\n",
      "TGF C:\\Users\\arpan\\OneDrive\\Documents\\GRB\\data\\data_set_3_proccessed\\TGF_bn200220556\n",
      "TGF C:\\Users\\arpan\\OneDrive\\Documents\\GRB\\data\\data_set_3_proccessed\\TGF_bn200624308\n",
      "TGF C:\\Users\\arpan\\OneDrive\\Documents\\GRB\\data\\data_set_3_proccessed\\TGF_bn201025784\n",
      "TGF C:\\Users\\arpan\\OneDrive\\Documents\\GRB\\data\\data_set_3_proccessed\\TGF_bn210514047\n",
      "TGF C:\\Users\\arpan\\OneDrive\\Documents\\GRB\\data\\data_set_3_proccessed\\TGF_bn210614708\n",
      "TGF C:\\Users\\arpan\\OneDrive\\Documents\\GRB\\data\\data_set_3_proccessed\\TGF_bn210921872\n",
      "TGF C:\\Users\\arpan\\OneDrive\\Documents\\GRB\\data\\data_set_3_proccessed\\TGF_bn211001794\n",
      "TGF C:\\Users\\arpan\\OneDrive\\Documents\\GRB\\data\\data_set_3_proccessed\\TGF_bn211026787\n",
      "TGF C:\\Users\\arpan\\OneDrive\\Documents\\GRB\\data\\data_set_3_proccessed\\TGF_bn211105790\n",
      "TGF C:\\Users\\arpan\\OneDrive\\Documents\\GRB\\data\\data_set_3_proccessed\\TGF_bn211111667\n",
      "TGF C:\\Users\\arpan\\OneDrive\\Documents\\GRB\\data\\data_set_3_proccessed\\TGF_bn220504172\n",
      "TGF C:\\Users\\arpan\\OneDrive\\Documents\\GRB\\data\\data_set_3_proccessed\\TGF_bn220904222\n",
      "TGF C:\\Users\\arpan\\OneDrive\\Documents\\GRB\\data\\data_set_3_proccessed\\TGF_bn230110824\n",
      "TGF C:\\Users\\arpan\\OneDrive\\Documents\\GRB\\data\\data_set_3_proccessed\\TGF_bn230413676\n",
      "TGF C:\\Users\\arpan\\OneDrive\\Documents\\GRB\\data\\data_set_3_proccessed\\TGF_bn230711838\n",
      "TGF C:\\Users\\arpan\\OneDrive\\Documents\\GRB\\data\\data_set_3_proccessed\\TGF_bn231130359\n",
      "(183, 65653)\n",
      "(183, 5)\n"
     ]
    }
   ],
   "source": [
    "import numpy as np\n",
    "import os\n",
    "import glob\n",
    "import matplotlib.pyplot as plt\n",
    "from Tools import tools\n",
    "\n",
    "# importing data\n",
    "# Read the 2D array back from the text file\n",
    "dir_path = r\"C:\\Users\\arpan\\OneDrive\\Documents\\GRB\\data\\data_set_3_proccessed\"\n",
    "event_types = {1:'GRB',2:'TGF',3:'SGR',4:'SFLARE',5:'DISTPAR'}\n",
    "event_counter = {'GRB':0,'TGF':0,'SGR':0,'SFLARE':0,'DISTPAR':0}\n",
    "# Replace 'your_search_string' with the string you are looking for in file names\n",
    "search_string = 'bn'\n",
    "search_pattern = os.path.join(dir_path, f'*{search_string}*')\n",
    "matching_files = glob.glob(search_pattern)\n",
    "\n",
    "X = []\n",
    "Y = []\n",
    "\n",
    "for file in matching_files:\n",
    "    event_type , event_name = file.split('\\\\')[-1].split('_')\n",
    "    loaded_data = np.loadtxt(file, dtype=np.int16, delimiter='\\t').astype(np.int16)\n",
    "    X.append(loaded_data)\n",
    "    y = [0,0,0,0,0]\n",
    "    for key,value in event_types.items():\n",
    "        if value in file.split('\\\\')[-1]:\n",
    "            print(value, file)\n",
    "            y[key-1] = 1\n",
    "            Y.append(y)\n",
    "            event_counter[value] += 1\n",
    "            break\n",
    "    \n",
    "X = np.array(X)\n",
    "Y = np.array(Y)\n",
    "print(X.shape)\n",
    "print(Y.shape)\n",
    "\n"
   ]
  },
  {
   "cell_type": "code",
   "execution_count": 2,
   "metadata": {},
   "outputs": [
    {
     "name": "stdout",
     "output_type": "stream",
     "text": [
      "[0 0 0 0 1]\n"
     ]
    }
   ],
   "source": [
    "print(Y[0])"
   ]
  },
  {
   "cell_type": "code",
   "execution_count": 3,
   "metadata": {},
   "outputs": [
    {
     "name": "stdout",
     "output_type": "stream",
     "text": [
      "Size of the array in bytes: 24028998 bytes\n"
     ]
    }
   ],
   "source": [
    "# Find the space taken by the array in bytes\n",
    "array_size_bytes = X.nbytes \n",
    "\n",
    "print(f\"Size of the array in bytes: {array_size_bytes} bytes\")"
   ]
  },
  {
   "cell_type": "code",
   "execution_count": 4,
   "metadata": {},
   "outputs": [
    {
     "name": "stdout",
     "output_type": "stream",
     "text": [
      "{'GRB': 71, 'TGF': 49, 'SGR': 4, 'SFLARE': 52, 'DISTPAR': 7}\n"
     ]
    }
   ],
   "source": [
    "print(event_counter)"
   ]
  },
  {
   "cell_type": "code",
   "execution_count": 5,
   "metadata": {},
   "outputs": [
    {
     "name": "stdout",
     "output_type": "stream",
     "text": [
      "(183, 65653)\n"
     ]
    }
   ],
   "source": [
    "print(X.shape)"
   ]
  },
  {
   "cell_type": "code",
   "execution_count": 6,
   "metadata": {},
   "outputs": [
    {
     "name": "stdout",
     "output_type": "stream",
     "text": [
      "X_train shape (164, 65653)\n",
      "X_test shape (19, 65653)\n",
      "Y_train shape (164, 5)\n",
      "Y_test shape (19, 5)\n"
     ]
    }
   ],
   "source": [
    "# Split the train and the validation set for the fitting\n",
    "from sklearn.model_selection import train_test_split\n",
    "X_train = (X)\n",
    "Y_train = (Y)\n",
    "X_train, X_val, Y_train, Y_val = train_test_split(X_train, Y_train, test_size = 0.1)#, random_state=2)\n",
    "print(\"X_train shape\",X_train.shape)\n",
    "print(\"X_test shape\",X_val.shape)\n",
    "print(\"Y_train shape\",Y_train.shape)\n",
    "print(\"Y_test shape\",Y_val.shape)"
   ]
  },
  {
   "cell_type": "code",
   "execution_count": 12,
   "metadata": {},
   "outputs": [
    {
     "name": "stderr",
     "output_type": "stream",
     "text": [
      "c:\\Users\\arpan\\miniconda3\\lib\\site-packages\\keras\\src\\layers\\convolutional\\base_conv.py:99: UserWarning: Do not pass an `input_shape`/`input_dim` argument to a layer. When using Sequential models, prefer using an `Input(shape)` object as the first layer in the model instead.\n",
      "  super().__init__(\n"
     ]
    },
    {
     "name": "stdout",
     "output_type": "stream",
     "text": [
      "Epoch 1/10\n",
      "\u001b[1m5/5\u001b[0m \u001b[32m━━━━━━━━━━━━━━━━━━━━\u001b[0m\u001b[37m\u001b[0m \u001b[1m41s\u001b[0m 9s/step - accuracy: 0.2949 - loss: 395.8246 - val_accuracy: 0.3333 - val_loss: 103.5475\n",
      "Epoch 2/10\n",
      "\u001b[1m5/5\u001b[0m \u001b[32m━━━━━━━━━━━━━━━━━━━━\u001b[0m\u001b[37m\u001b[0m \u001b[1m13s\u001b[0m 2s/step - accuracy: 0.3666 - loss: 116.0522 - val_accuracy: 0.7576 - val_loss: 58.8547\n",
      "Epoch 3/10\n",
      "\u001b[1m5/5\u001b[0m \u001b[32m━━━━━━━━━━━━━━━━━━━━\u001b[0m\u001b[37m\u001b[0m \u001b[1m12s\u001b[0m 2s/step - accuracy: 0.5077 - loss: 32.7327 - val_accuracy: 0.4545 - val_loss: 7.6078\n",
      "Epoch 4/10\n",
      "\u001b[1m5/5\u001b[0m \u001b[32m━━━━━━━━━━━━━━━━━━━━\u001b[0m\u001b[37m\u001b[0m \u001b[1m12s\u001b[0m 2s/step - accuracy: 0.5777 - loss: 8.8932 - val_accuracy: 0.7576 - val_loss: 17.0038\n",
      "Epoch 5/10\n",
      "\u001b[1m5/5\u001b[0m \u001b[32m━━━━━━━━━━━━━━━━━━━━\u001b[0m\u001b[37m\u001b[0m \u001b[1m12s\u001b[0m 2s/step - accuracy: 0.6201 - loss: 7.0593 - val_accuracy: 0.5152 - val_loss: 1.3454\n",
      "Epoch 6/10\n",
      "\u001b[1m5/5\u001b[0m \u001b[32m━━━━━━━━━━━━━━━━━━━━\u001b[0m\u001b[37m\u001b[0m \u001b[1m12s\u001b[0m 2s/step - accuracy: 0.6865 - loss: 2.8678 - val_accuracy: 0.4242 - val_loss: 2.0577\n",
      "Epoch 7/10\n",
      "\u001b[1m5/5\u001b[0m \u001b[32m━━━━━━━━━━━━━━━━━━━━\u001b[0m\u001b[37m\u001b[0m \u001b[1m12s\u001b[0m 2s/step - accuracy: 0.7327 - loss: 1.2386 - val_accuracy: 0.7273 - val_loss: 2.0293\n",
      "Epoch 8/10\n",
      "\u001b[1m5/5\u001b[0m \u001b[32m━━━━━━━━━━━━━━━━━━━━\u001b[0m\u001b[37m\u001b[0m \u001b[1m12s\u001b[0m 2s/step - accuracy: 0.8556 - loss: 0.6271 - val_accuracy: 0.6970 - val_loss: 3.7131\n",
      "Epoch 9/10\n",
      "\u001b[1m5/5\u001b[0m \u001b[32m━━━━━━━━━━━━━━━━━━━━\u001b[0m\u001b[37m\u001b[0m \u001b[1m12s\u001b[0m 2s/step - accuracy: 0.8666 - loss: 0.4611 - val_accuracy: 0.7273 - val_loss: 1.7263\n",
      "Epoch 10/10\n",
      "\u001b[1m5/5\u001b[0m \u001b[32m━━━━━━━━━━━━━━━━━━━━\u001b[0m\u001b[37m\u001b[0m \u001b[1m12s\u001b[0m 2s/step - accuracy: 0.8680 - loss: 0.6818 - val_accuracy: 0.7273 - val_loss: 1.3711\n",
      "\u001b[1m6/6\u001b[0m \u001b[32m━━━━━━━━━━━━━━━━━━━━\u001b[0m\u001b[37m\u001b[0m \u001b[1m3s\u001b[0m 541ms/step - accuracy: 0.9495 - loss: 0.4255\n",
      "\n",
      "Test accuracy on training data: 0.9146341681480408 \n",
      " \n",
      "\n",
      "1/1 - 0s - 451ms/step - accuracy: 0.7895 - loss: 1.0403\n",
      "Test accuracy on test data: 0.7894737124443054\n"
     ]
    }
   ],
   "source": [
    "import tensorflow as tf\n",
    "from keras import layers, models\n",
    "\n",
    "# Build the CNN model\n",
    "model = models.Sequential()\n",
    "model.add(layers.Conv1D(64, 32, activation='relu', input_shape=(X_train.shape[1:])+tuple([1])))\n",
    "model.add(layers.MaxPooling1D((5)))\n",
    "# model.add(layers.Conv1D(64,1, activation='relu'))\n",
    "# model.add(layers.MaxPooling1D((5)))\n",
    "model.add(layers.Flatten())\n",
    "model.add(layers.Dense(64, activation='relu'))\n",
    "model.add(layers.Dense(5, activation='softmax'))\n",
    "\n",
    "# Compile the model\n",
    "model.compile(optimizer='adam',\n",
    "              loss='categorical_crossentropy',\n",
    "              metrics=['accuracy'])\n",
    "\n",
    "# Train the model\n",
    "model.fit(X_train, Y_train, epochs=10, batch_size=32, validation_split=0.2)\n",
    "\n",
    "# Evaluate the model on the test set\n",
    "test_loss, test_acc = model.evaluate(X_train, Y_train)\n",
    "print(f'\\nTest accuracy on training data: {test_acc} \\n \\n')\n",
    "\n",
    "# Evaluate the model on the test set\n",
    "test_loss, test_acc = model.evaluate(X_val, Y_val, verbose=2)\n",
    "print(f'Test accuracy on test data: {test_acc}')"
   ]
  }
 ],
 "metadata": {
  "kernelspec": {
   "display_name": "base",
   "language": "python",
   "name": "python3"
  },
  "language_info": {
   "codemirror_mode": {
    "name": "ipython",
    "version": 3
   },
   "file_extension": ".py",
   "mimetype": "text/x-python",
   "name": "python",
   "nbconvert_exporter": "python",
   "pygments_lexer": "ipython3",
   "version": "3.9.12"
  }
 },
 "nbformat": 4,
 "nbformat_minor": 2
}
